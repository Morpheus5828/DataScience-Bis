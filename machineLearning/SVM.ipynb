{
 "cells": [
  {
   "cell_type": "code",
   "execution_count": 89,
   "metadata": {},
   "outputs": [],
   "source": [
    "import numpy as np\n",
    "import pandas as pd\n",
    "import matplotlib.pyplot as plt\n",
    "import seaborn as sns\n",
    "import warnings\n",
    "warnings.filterwarnings('ignore')\n",
    "from sklearn.model_selection import train_test_split\n",
    "from sklearn.preprocessing import StandardScaler\n",
    "from sklearn.svm import SVC\n",
    "from sklearn.metrics import accuracy_score\n",
    "from sklearn.metrics import confusion_matrix\n",
    "from sklearn.metrics import classification_report\n",
    "from sklearn.metrics import roc_curve"
   ]
  },
  {
   "cell_type": "code",
   "execution_count": 63,
   "metadata": {
    "collapsed": false,
    "jupyter": {
     "outputs_hidden": false
    }
   },
   "outputs": [
    {
     "data": {
      "text/plain": "(17898, 9)"
     },
     "execution_count": 63,
     "metadata": {},
     "output_type": "execute_result"
    }
   ],
   "source": [
    "df = pd.read_csv(\"../resources/pulsar_stars.csv\")\n",
    "df.head()\n",
    "df.shape"
   ]
  },
  {
   "cell_type": "code",
   "execution_count": 64,
   "metadata": {
    "collapsed": false,
    "jupyter": {
     "outputs_hidden": false
    }
   },
   "outputs": [],
   "source": [
    "# rename column name because it s too long\n",
    "df.columns = ['IP Mean', 'IP Sd', 'IP Kurtosis', 'IP Skewness',\n",
    "              'DM-SNR Mean', 'DM-SNR Sd', 'DM-SNR Kurtosis', 'DM-SNR Skewness', 'target_class']"
   ]
  },
  {
   "cell_type": "code",
   "execution_count": 65,
   "metadata": {
    "collapsed": false,
    "jupyter": {
     "outputs_hidden": false
    }
   },
   "outputs": [
    {
     "data": {
      "text/plain": "target_class\n0    16259\n1     1639\nName: count, dtype: int64"
     },
     "execution_count": 65,
     "metadata": {},
     "output_type": "execute_result"
    }
   ],
   "source": [
    "df['target_class'].value_counts()"
   ]
  },
  {
   "cell_type": "code",
   "execution_count": 66,
   "metadata": {
    "collapsed": false,
    "jupyter": {
     "outputs_hidden": false
    }
   },
   "outputs": [
    {
     "name": "stdout",
     "output_type": "stream",
     "text": [
      "<class 'pandas.core.frame.DataFrame'>\n",
      "RangeIndex: 17898 entries, 0 to 17897\n",
      "Data columns (total 9 columns):\n",
      " #   Column           Non-Null Count  Dtype  \n",
      "---  ------           --------------  -----  \n",
      " 0   IP Mean          17898 non-null  float64\n",
      " 1   IP Sd            17898 non-null  float64\n",
      " 2   IP Kurtosis      17898 non-null  float64\n",
      " 3   IP Skewness      17898 non-null  float64\n",
      " 4   DM-SNR Mean      17898 non-null  float64\n",
      " 5   DM-SNR Sd        17898 non-null  float64\n",
      " 6   DM-SNR Kurtosis  17898 non-null  float64\n",
      " 7   DM-SNR Skewness  17898 non-null  float64\n",
      " 8   target_class     17898 non-null  int64  \n",
      "dtypes: float64(8), int64(1)\n",
      "memory usage: 1.2 MB\n"
     ]
    }
   ],
   "source": [
    "df.info()"
   ]
  },
  {
   "cell_type": "code",
   "execution_count": 67,
   "metadata": {
    "collapsed": false,
    "jupyter": {
     "outputs_hidden": false
    }
   },
   "outputs": [
    {
     "data": {
      "text/plain": "IP Mean            0\nIP Sd              0\nIP Kurtosis        0\nIP Skewness        0\nDM-SNR Mean        0\nDM-SNR Sd          0\nDM-SNR Kurtosis    0\nDM-SNR Skewness    0\ntarget_class       0\ndtype: int64"
     },
     "execution_count": 67,
     "metadata": {},
     "output_type": "execute_result"
    }
   ],
   "source": [
    "df.isnull().sum()"
   ]
  },
  {
   "cell_type": "code",
   "execution_count": 68,
   "metadata": {
    "collapsed": false,
    "jupyter": {
     "outputs_hidden": false
    }
   },
   "outputs": [
    {
     "data": {
      "text/plain": "        IP Mean     IP Sd  IP Kurtosis  IP Skewness  DM-SNR Mean  DM-SNR Sd  \\\ncount  17898.00  17898.00     17898.00     17898.00     17898.00   17898.00   \nmean     111.08     46.55         0.48         1.77        12.61      26.33   \nstd       25.65      6.84         1.06         6.17        29.47      19.47   \nmin        5.81     24.77        -1.88        -1.79         0.21       7.37   \n25%      100.93     42.38         0.03        -0.19         1.92      14.44   \n50%      115.08     46.95         0.22         0.20         2.80      18.46   \n75%      127.09     51.02         0.47         0.93         5.46      28.43   \nmax      192.62     98.78         8.07        68.10       223.39     110.64   \n\n       DM-SNR Kurtosis  DM-SNR Skewness  target_class  \ncount         17898.00         17898.00      17898.00  \nmean              8.30           104.86          0.09  \nstd               4.51           106.51          0.29  \nmin              -3.14            -1.98          0.00  \n25%               5.78            34.96          0.00  \n50%               8.43            83.06          0.00  \n75%              10.70           139.31          0.00  \nmax              34.54          1191.00          1.00  ",
      "text/html": "<div>\n<style scoped>\n    .dataframe tbody tr th:only-of-type {\n        vertical-align: middle;\n    }\n\n    .dataframe tbody tr th {\n        vertical-align: top;\n    }\n\n    .dataframe thead th {\n        text-align: right;\n    }\n</style>\n<table border=\"1\" class=\"dataframe\">\n  <thead>\n    <tr style=\"text-align: right;\">\n      <th></th>\n      <th>IP Mean</th>\n      <th>IP Sd</th>\n      <th>IP Kurtosis</th>\n      <th>IP Skewness</th>\n      <th>DM-SNR Mean</th>\n      <th>DM-SNR Sd</th>\n      <th>DM-SNR Kurtosis</th>\n      <th>DM-SNR Skewness</th>\n      <th>target_class</th>\n    </tr>\n  </thead>\n  <tbody>\n    <tr>\n      <th>count</th>\n      <td>17898.00</td>\n      <td>17898.00</td>\n      <td>17898.00</td>\n      <td>17898.00</td>\n      <td>17898.00</td>\n      <td>17898.00</td>\n      <td>17898.00</td>\n      <td>17898.00</td>\n      <td>17898.00</td>\n    </tr>\n    <tr>\n      <th>mean</th>\n      <td>111.08</td>\n      <td>46.55</td>\n      <td>0.48</td>\n      <td>1.77</td>\n      <td>12.61</td>\n      <td>26.33</td>\n      <td>8.30</td>\n      <td>104.86</td>\n      <td>0.09</td>\n    </tr>\n    <tr>\n      <th>std</th>\n      <td>25.65</td>\n      <td>6.84</td>\n      <td>1.06</td>\n      <td>6.17</td>\n      <td>29.47</td>\n      <td>19.47</td>\n      <td>4.51</td>\n      <td>106.51</td>\n      <td>0.29</td>\n    </tr>\n    <tr>\n      <th>min</th>\n      <td>5.81</td>\n      <td>24.77</td>\n      <td>-1.88</td>\n      <td>-1.79</td>\n      <td>0.21</td>\n      <td>7.37</td>\n      <td>-3.14</td>\n      <td>-1.98</td>\n      <td>0.00</td>\n    </tr>\n    <tr>\n      <th>25%</th>\n      <td>100.93</td>\n      <td>42.38</td>\n      <td>0.03</td>\n      <td>-0.19</td>\n      <td>1.92</td>\n      <td>14.44</td>\n      <td>5.78</td>\n      <td>34.96</td>\n      <td>0.00</td>\n    </tr>\n    <tr>\n      <th>50%</th>\n      <td>115.08</td>\n      <td>46.95</td>\n      <td>0.22</td>\n      <td>0.20</td>\n      <td>2.80</td>\n      <td>18.46</td>\n      <td>8.43</td>\n      <td>83.06</td>\n      <td>0.00</td>\n    </tr>\n    <tr>\n      <th>75%</th>\n      <td>127.09</td>\n      <td>51.02</td>\n      <td>0.47</td>\n      <td>0.93</td>\n      <td>5.46</td>\n      <td>28.43</td>\n      <td>10.70</td>\n      <td>139.31</td>\n      <td>0.00</td>\n    </tr>\n    <tr>\n      <th>max</th>\n      <td>192.62</td>\n      <td>98.78</td>\n      <td>8.07</td>\n      <td>68.10</td>\n      <td>223.39</td>\n      <td>110.64</td>\n      <td>34.54</td>\n      <td>1191.00</td>\n      <td>1.00</td>\n    </tr>\n  </tbody>\n</table>\n</div>"
     },
     "execution_count": 68,
     "metadata": {},
     "output_type": "execute_result"
    }
   ],
   "source": [
    "round(df.describe(), 2)"
   ]
  },
  {
   "cell_type": "code",
   "execution_count": 69,
   "metadata": {
    "collapsed": false,
    "jupyter": {
     "outputs_hidden": false
    }
   },
   "outputs": [],
   "source": [
    "X = df.drop('target_class', axis=1)\n",
    "y = df['target_class']"
   ]
  },
  {
   "cell_type": "code",
   "execution_count": 70,
   "metadata": {
    "collapsed": false,
    "jupyter": {
     "outputs_hidden": false
    }
   },
   "outputs": [],
   "source": [
    "X_train, X_test, y_train, y_test = train_test_split(X, y, test_size=0.3,random_state=0)"
   ]
  },
  {
   "cell_type": "code",
   "execution_count": 71,
   "metadata": {
    "collapsed": false,
    "jupyter": {
     "outputs_hidden": false
    }
   },
   "outputs": [],
   "source": [
    "scaler = StandardScaler()\n",
    "X_train = scaler.fit_transform(X_train)\n",
    "X_test = scaler.fit_transform(X_test)"
   ]
  },
  {
   "cell_type": "code",
   "execution_count": 72,
   "metadata": {
    "collapsed": false,
    "jupyter": {
     "outputs_hidden": false
    }
   },
   "outputs": [],
   "source": [
    "X_train = pd.DataFrame(X_train)"
   ]
  },
  {
   "cell_type": "code",
   "execution_count": 73,
   "metadata": {
    "collapsed": false,
    "jupyter": {
     "outputs_hidden": false
    }
   },
   "outputs": [
    {
     "data": {
      "text/plain": "                  0             1             2             3             4  \\\ncount  1.252800e+04  1.252800e+04  1.252800e+04  12528.000000  1.252800e+04   \nmean  -3.317908e-17 -1.554029e-16  4.083579e-17      0.000000 -1.474626e-17   \nstd    1.000040e+00  1.000040e+00  1.000040e+00      1.000040  1.000040e+00   \nmin   -4.044077e+00 -3.181981e+00 -2.197598e+00     -0.578563 -4.230319e-01   \n25%   -3.880831e-01 -6.131693e-01 -4.264487e-01     -0.320257 -3.653829e-01   \n50%    1.571428e-01  5.967714e-02 -2.464899e-01     -0.258115 -3.356718e-01   \n75%    6.226035e-01  6.528819e-01 -8.369164e-03     -0.141000 -2.448071e-01   \nmax    3.159394e+00  7.626990e+00  7.052487e+00     10.660582  7.090529e+00   \n\n                  5             6             7  \ncount  1.252800e+04  1.252800e+04  1.252800e+04  \nmean  -4.083579e-17  1.746864e-16 -1.191044e-16  \nstd    1.000040e+00  1.000040e+00  1.000040e+00  \nmin   -9.736112e-01 -2.465015e+00 -1.007002e+00  \n25%   -6.117121e-01 -5.663053e-01 -6.626888e-01  \n50%   -4.046293e-01  2.916540e-02 -2.087919e-01  \n75%    1.039735e-01  5.368958e-01  3.255132e-01  \nmax    4.311715e+00  5.830553e+00  1.026999e+01  ",
      "text/html": "<div>\n<style scoped>\n    .dataframe tbody tr th:only-of-type {\n        vertical-align: middle;\n    }\n\n    .dataframe tbody tr th {\n        vertical-align: top;\n    }\n\n    .dataframe thead th {\n        text-align: right;\n    }\n</style>\n<table border=\"1\" class=\"dataframe\">\n  <thead>\n    <tr style=\"text-align: right;\">\n      <th></th>\n      <th>0</th>\n      <th>1</th>\n      <th>2</th>\n      <th>3</th>\n      <th>4</th>\n      <th>5</th>\n      <th>6</th>\n      <th>7</th>\n    </tr>\n  </thead>\n  <tbody>\n    <tr>\n      <th>count</th>\n      <td>1.252800e+04</td>\n      <td>1.252800e+04</td>\n      <td>1.252800e+04</td>\n      <td>12528.000000</td>\n      <td>1.252800e+04</td>\n      <td>1.252800e+04</td>\n      <td>1.252800e+04</td>\n      <td>1.252800e+04</td>\n    </tr>\n    <tr>\n      <th>mean</th>\n      <td>-3.317908e-17</td>\n      <td>-1.554029e-16</td>\n      <td>4.083579e-17</td>\n      <td>0.000000</td>\n      <td>-1.474626e-17</td>\n      <td>-4.083579e-17</td>\n      <td>1.746864e-16</td>\n      <td>-1.191044e-16</td>\n    </tr>\n    <tr>\n      <th>std</th>\n      <td>1.000040e+00</td>\n      <td>1.000040e+00</td>\n      <td>1.000040e+00</td>\n      <td>1.000040</td>\n      <td>1.000040e+00</td>\n      <td>1.000040e+00</td>\n      <td>1.000040e+00</td>\n      <td>1.000040e+00</td>\n    </tr>\n    <tr>\n      <th>min</th>\n      <td>-4.044077e+00</td>\n      <td>-3.181981e+00</td>\n      <td>-2.197598e+00</td>\n      <td>-0.578563</td>\n      <td>-4.230319e-01</td>\n      <td>-9.736112e-01</td>\n      <td>-2.465015e+00</td>\n      <td>-1.007002e+00</td>\n    </tr>\n    <tr>\n      <th>25%</th>\n      <td>-3.880831e-01</td>\n      <td>-6.131693e-01</td>\n      <td>-4.264487e-01</td>\n      <td>-0.320257</td>\n      <td>-3.653829e-01</td>\n      <td>-6.117121e-01</td>\n      <td>-5.663053e-01</td>\n      <td>-6.626888e-01</td>\n    </tr>\n    <tr>\n      <th>50%</th>\n      <td>1.571428e-01</td>\n      <td>5.967714e-02</td>\n      <td>-2.464899e-01</td>\n      <td>-0.258115</td>\n      <td>-3.356718e-01</td>\n      <td>-4.046293e-01</td>\n      <td>2.916540e-02</td>\n      <td>-2.087919e-01</td>\n    </tr>\n    <tr>\n      <th>75%</th>\n      <td>6.226035e-01</td>\n      <td>6.528819e-01</td>\n      <td>-8.369164e-03</td>\n      <td>-0.141000</td>\n      <td>-2.448071e-01</td>\n      <td>1.039735e-01</td>\n      <td>5.368958e-01</td>\n      <td>3.255132e-01</td>\n    </tr>\n    <tr>\n      <th>max</th>\n      <td>3.159394e+00</td>\n      <td>7.626990e+00</td>\n      <td>7.052487e+00</td>\n      <td>10.660582</td>\n      <td>7.090529e+00</td>\n      <td>4.311715e+00</td>\n      <td>5.830553e+00</td>\n      <td>1.026999e+01</td>\n    </tr>\n  </tbody>\n</table>\n</div>"
     },
     "execution_count": 73,
     "metadata": {},
     "output_type": "execute_result"
    }
   ],
   "source": [
    "X_train.describe()"
   ]
  },
  {
   "cell_type": "code",
   "execution_count": 76,
   "metadata": {
    "collapsed": false,
    "jupyter": {
     "outputs_hidden": false
    }
   },
   "outputs": [],
   "source": [
    "def run():\n",
    "    C = [1.0, 100.0, 1000.0]\n",
    "    scoreOne = []\n",
    "    scoreTwo = []\n",
    "    scoreThree = []\n",
    "    for c in C:\n",
    "        # Linear kernel\n",
    "        svc = SVC(kernel='linear', C=c)\n",
    "        svc.fit(X_train, y_train)\n",
    "        y_pred=svc.predict(X_test)\n",
    "        #print(\"Linear kernel:\", accuracy_score(y_test, y_pred))\n",
    "        scoreOne.append(accuracy_score(y_test, y_pred))\n",
    "        \n",
    "        # Polynomiale kernel\n",
    "        svc = SVC(kernel='poly', C=c)\n",
    "        svc.fit(X_train, y_train)\n",
    "        y_pred=svc.predict(X_test)\n",
    "        #print(\"Polynomial kernel:\", accuracy_score(y_test, y_pred))\n",
    "        scoreTwo.append(accuracy_score(y_test, y_pred))\n",
    "        \n",
    "        # Sigmoid kernel\n",
    "        svc = SVC(kernel='sigmoid', C=c)\n",
    "        svc.fit(X_train, y_train)\n",
    "        y_pred=svc.predict(X_test)\n",
    "        #print(\"Sigmoid kernel:\", accuracy_score(y_test, y_pred))\n",
    "        scoreThree.append(accuracy_score(y_test, y_pred))\n",
    "    \n",
    "    return (scoreOne, scoreTwo, scoreThree)\n",
    "        "
   ]
  },
  {
   "cell_type": "code",
   "execution_count": 77,
   "metadata": {},
   "outputs": [
    {
     "data": {
      "text/plain": "([0.9806331471135941, 0.9806331471135941, 0.9806331471135941],\n [0.9780260707635009, 0.9804469273743017, 0.9811918063314712],\n [0.8666666666666667, 0.8662942271880819, 0.8662942271880819])"
     },
     "execution_count": 77,
     "metadata": {},
     "output_type": "execute_result"
    }
   ],
   "source": [
    "run()"
   ]
  },
  {
   "cell_type": "code",
   "execution_count": 82,
   "metadata": {},
   "outputs": [
    {
     "name": "stdout",
     "output_type": "stream",
     "text": [
      "Confusion matrix\n",
      "\n",
      " [[4898   28]\n",
      " [  76  368]]\n",
      "\n",
      "True Positives(TP) =  4898\n",
      "\n",
      "True Negatives(TN) =  368\n",
      "\n",
      "False Positives(FP) =  28\n",
      "\n",
      "False Negatives(FN) =  76\n"
     ]
    }
   ],
   "source": [
    "svc = SVC(kernel='linear')\n",
    "svc.fit(X_train, y_train)\n",
    "y_pred=svc.predict(X_test)\n",
    "cm = confusion_matrix(y_test, y_pred)\n",
    "\n",
    "print('Confusion matrix\\n\\n', cm)\n",
    "\n",
    "print('\\nTrue Positives(TP) = ', cm[0,0])\n",
    "\n",
    "print('\\nTrue Negatives(TN) = ', cm[1,1])\n",
    "\n",
    "print('\\nFalse Positives(FP) = ', cm[0,1])\n",
    "\n",
    "print('\\nFalse Negatives(FN) = ', cm[1,0])"
   ]
  },
  {
   "cell_type": "code",
   "execution_count": 83,
   "metadata": {},
   "outputs": [
    {
     "data": {
      "text/plain": "<Axes: >"
     },
     "execution_count": 83,
     "metadata": {},
     "output_type": "execute_result"
    },
    {
     "data": {
      "text/plain": "<Figure size 640x480 with 2 Axes>",
      "image/png": "[encoded data removed]"
     },
     "metadata": {},
     "output_type": "display_data"
    }
   ],
   "source": [
    "cm_matrix = pd.DataFrame(data=cm, columns=['Actual Positive:1', 'Actual Negative:0'],\n",
    "                                 index=['Predict Positive:1', 'Predict Negative:0'])\n",
    "\n",
    "sns.heatmap(cm_matrix, annot=True, fmt='d', cmap='YlGnBu')"
   ]
  },
  {
   "cell_type": "code",
   "execution_count": 86,
   "outputs": [
    {
     "name": "stdout",
     "output_type": "stream",
     "text": [
      "              precision    recall  f1-score   support\n",
      "\n",
      "           0       0.98      0.99      0.99      4926\n",
      "           1       0.93      0.83      0.88       444\n",
      "\n",
      "    accuracy                           0.98      5370\n",
      "   macro avg       0.96      0.91      0.93      5370\n",
      "weighted avg       0.98      0.98      0.98      5370\n",
      "\n"
     ]
    }
   ],
   "source": [
    "print(classification_report(y_test, y_pred))"
   ],
   "metadata": {
    "collapsed": false
   }
  },
  {
   "cell_type": "code",
   "execution_count": 87,
   "outputs": [],
   "source": [
    "TP = cm[0,0]\n",
    "TN = cm[1,1]\n",
    "FP = cm[0,1]\n",
    "FN = cm[1,0]"
   ],
   "metadata": {
    "collapsed": false
   }
  },
  {
   "cell_type": "code",
   "execution_count": 88,
   "outputs": [
    {
     "name": "stdout",
     "output_type": "stream",
     "text": [
      "Classification accuracy : 0.9806\n",
      "Classification error : 0.0194\n"
     ]
    }
   ],
   "source": [
    "classification_accuracy = (TP + TN) / float(TP + TN + FP + FN)\n",
    "print('Classification accuracy : {0:0.4f}'.format(classification_accuracy))\n",
    "classification_error = (FP + FN) / float(TP + TN + FP + FN)\n",
    "print('Classification error : {0:0.4f}'.format(classification_error))"
   ],
   "metadata": {
    "collapsed": false
   }
  },
  {
   "cell_type": "code",
   "execution_count": 90,
   "outputs": [
    {
     "data": {
      "text/plain": "<Figure size 600x400 with 1 Axes>",
      "image/png": "[encoded data removed]"
     },
     "metadata": {},
     "output_type": "display_data"
    }
   ],
   "source": [
    "\n",
    "fpr, tpr, thresholds = roc_curve(y_test, y_pred)\n",
    "\n",
    "plt.figure(figsize=(6,4))\n",
    "\n",
    "plt.plot(fpr, tpr, linewidth=2)\n",
    "\n",
    "plt.plot([0,1], [0,1], 'k--' )\n",
    "\n",
    "plt.rcParams['font.size'] = 12\n",
    "\n",
    "plt.title('ROC curve for Predicting a Pulsar Star classifier')\n",
    "\n",
    "plt.xlabel('False Positive Rate (1 - Specificity)')\n",
    "\n",
    "plt.ylabel('True Positive Rate (Sensitivity)')\n",
    "\n",
    "plt.show()"
   ],
   "metadata": {
    "collapsed": false
   }
  },
  {
   "cell_type": "code",
   "execution_count": null,
   "outputs": [],
   "source": [],
   "metadata": {
    "collapsed": false
   }
  }
 ],
 "metadata": {
  "kernelspec": {
   "display_name": "Python 3 (ipykernel)",
   "language": "python",
   "name": "python3"
  },
  "language_info": {
   "codemirror_mode": {
    "name": "ipython",
    "version": 3
   },
   "file_extension": ".py",
   "mimetype": "text/x-python",
   "name": "python",
   "nbconvert_exporter": "python",
   "pygments_lexer": "ipython3",
   "version": "3.11.2"
  }
 },
 "nbformat": 4,
 "nbformat_minor": 4
}
