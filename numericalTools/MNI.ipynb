{
 "cells": [
  {
   "cell_type": "code",
   "execution_count": null,
   "metadata": {
    "collapsed": true,
    "pycharm": {
     "is_executing": true
    }
   },
   "outputs": [],
   "source": [
    "import numpy as np\n",
    "from numpy import linalg as LA\n",
    "import matplotlib.pyplot as plt\n",
    "\n",
    "b = np.load('data_examen_2022.npz')\n",
    "X = b[\"X\"]\n",
    "y = b[\"y\"]"
   ]
  },
  {
   "cell_type": "code",
   "execution_count": 26,
   "outputs": [],
   "source": [
    "# Cholesky\n",
    "A = np.array([[1,2],[2,5]])\n",
    "L = np.linalg.cholesky(A)\n",
    "#L\n",
    "#np.dot(L, L.T.conj()) # check if L is good L * L-1 = A"
   ],
   "metadata": {
    "collapsed": false
   }
  },
  {
   "cell_type": "code",
   "execution_count": 3,
   "outputs": [],
   "source": [
    "# HouseOlder"
   ],
   "metadata": {
    "collapsed": false
   }
  },
  {
   "cell_type": "code",
   "execution_count": 4,
   "outputs": [],
   "source": [
    "# Puissance itérées"
   ],
   "metadata": {
    "collapsed": false
   }
  },
  {
   "cell_type": "code",
   "execution_count": 5,
   "outputs": [],
   "source": [
    "# SVD"
   ],
   "metadata": {
    "collapsed": false
   }
  },
  {
   "cell_type": "code",
   "execution_count": 6,
   "outputs": [],
   "source": [
    "# PCA"
   ],
   "metadata": {
    "collapsed": false
   }
  },
  {
   "cell_type": "code",
   "execution_count": 7,
   "outputs": [],
   "source": [
    "# Optim 1D"
   ],
   "metadata": {
    "collapsed": false
   }
  },
  {
   "cell_type": "code",
   "execution_count": null,
   "outputs": [],
   "source": [
    "# Descente de Gradient\n",
    "def f(w):\n",
    "    return 1/2 * w.T @ X * w - y.T + c\n",
    "    #return 0.5 * LA.norm(X @ w - y)**2 + 0.1/2 * LA.norm(w)**2\n",
    "def grad(w):\n",
    "    return X.T @ (X @ w - y) + 0.1 * w\n",
    "\n",
    "def gradient_cst(x0, step_size, rel_tol, n_iteration, return_iterates, f, grad):\n",
    "    i = 0\n",
    "    x_list = []\n",
    "    x = x0\n",
    "    x_next = x - step_size * grad(x)\n",
    "    x_list.append(x)\n",
    "    x_list.append(x_next)\n",
    "    while i != n_iteration and LA.norm(grad(x_next)) > rel_tol:\n",
    "        x = x_next\n",
    "        x_next = x - (step_size * grad(x))\n",
    "        x_list.append(x_next)\n",
    "        i += 1\n",
    "    if return_iterates:\n",
    "        return x, x_list\n",
    "    else:\n",
    "        return x\n",
    "\n",
    "x_min, x_list = gradient_cst(np.zeros(14), 0.01, 0.00005, 100, True, f, grad)\n",
    "print(\"Min:\", x_min)\n",
    "plt.plot([a for a in range(len(x_list))], [f(a) for a in x_list])"
   ],
   "metadata": {
    "collapsed": false,
    "pycharm": {
     "is_executing": true
    }
   }
  },
  {
   "cell_type": "code",
   "execution_count": null,
   "outputs": [],
   "source": [
    "# Descente de Gradient Conjugué Non Linéaire\n",
    "from scipy import optimize\n",
    "\n",
    "x0 = np.zeros(14)\n",
    "args = (X, y)\n",
    "\n",
    "def f_args(w, *args):\n",
    "    return 0.5 * LA.norm(args[0] @ w - args[1])**2 + 0.1/2 * LA.norm(w)**2\n",
    "def grad(w, *args):\n",
    "    return X.T @ (args[0] @ w - args[1]) + 0.1 * w\n",
    "\n",
    "res, retall = optimize.fmin_cg(f_args, x0, fprime=grad, args=args, retall=True)\n",
    "#print([f(a) for a in retall])\n",
    "plt.plot([a for a in range(len(retall))], [f(a) for a in retall])"
   ],
   "metadata": {
    "collapsed": false,
    "pycharm": {
     "is_executing": true
    }
   }
  },
  {
   "cell_type": "code",
   "execution_count": 154,
   "outputs": [
    {
     "ename": "ValueError",
     "evalue": "expected square matrix, but got shape=((178, 14),)",
     "output_type": "error",
     "traceback": [
      "\u001B[1;31m---------------------------------------------------------------------------\u001B[0m",
      "\u001B[1;31mValueError\u001B[0m                                Traceback (most recent call last)",
      "Cell \u001B[1;32mIn[154], line 6\u001B[0m\n\u001B[0;32m      4\u001B[0m P \u001B[38;5;241m=\u001B[39m X\n\u001B[0;32m      5\u001B[0m A \u001B[38;5;241m=\u001B[39m csc_matrix(P)\n\u001B[1;32m----> 6\u001B[0m \u001B[38;5;28mmin\u001B[39m, exit_code \u001B[38;5;241m=\u001B[39m \u001B[43mcg\u001B[49m\u001B[43m(\u001B[49m\u001B[43mA\u001B[49m\u001B[43m,\u001B[49m\u001B[43m \u001B[49m\u001B[43my\u001B[49m\u001B[43m,\u001B[49m\u001B[43m \u001B[49m\u001B[43matol\u001B[49m\u001B[38;5;241;43m=\u001B[39;49m\u001B[38;5;241;43m1e-5\u001B[39;49m\u001B[43m)\u001B[49m\n\u001B[0;32m      7\u001B[0m \u001B[38;5;28mprint\u001B[39m(\u001B[38;5;28mmin\u001B[39m)\n\u001B[0;32m      8\u001B[0m \u001B[38;5;28mprint\u001B[39m(exit_code)\n",
      "File \u001B[1;32m<decorator-gen-3>:2\u001B[0m, in \u001B[0;36mcg\u001B[1;34m(A, b, x0, tol, maxiter, M, callback, atol)\u001B[0m\n",
      "File \u001B[1;32m~\\PycharmProjects\\DataScience\\venv\\Lib\\site-packages\\scipy\\_lib\\_threadsafety.py:44\u001B[0m, in \u001B[0;36mReentrancyLock.decorate.<locals>.caller\u001B[1;34m(func, *a, **kw)\u001B[0m\n\u001B[0;32m     42\u001B[0m \u001B[38;5;28;01mdef\u001B[39;00m \u001B[38;5;21mcaller\u001B[39m(func, \u001B[38;5;241m*\u001B[39ma, \u001B[38;5;241m*\u001B[39m\u001B[38;5;241m*\u001B[39mkw):\n\u001B[0;32m     43\u001B[0m     \u001B[38;5;28;01mwith\u001B[39;00m \u001B[38;5;28mself\u001B[39m:\n\u001B[1;32m---> 44\u001B[0m         \u001B[38;5;28;01mreturn\u001B[39;00m \u001B[43mfunc\u001B[49m\u001B[43m(\u001B[49m\u001B[38;5;241;43m*\u001B[39;49m\u001B[43ma\u001B[49m\u001B[43m,\u001B[49m\u001B[43m \u001B[49m\u001B[38;5;241;43m*\u001B[39;49m\u001B[38;5;241;43m*\u001B[39;49m\u001B[43mkw\u001B[49m\u001B[43m)\u001B[49m\n",
      "File \u001B[1;32m~\\PycharmProjects\\DataScience\\venv\\Lib\\site-packages\\scipy\\sparse\\linalg\\_isolve\\iterative.py:329\u001B[0m, in \u001B[0;36mcg\u001B[1;34m(A, b, x0, tol, maxiter, M, callback, atol)\u001B[0m\n\u001B[0;32m    302\u001B[0m \u001B[38;5;129m@set_docstring\u001B[39m(\u001B[38;5;124m'\u001B[39m\u001B[38;5;124mUse Conjugate Gradient iteration to solve ``Ax = b``.\u001B[39m\u001B[38;5;124m'\u001B[39m,\n\u001B[0;32m    303\u001B[0m                \u001B[38;5;124m'\u001B[39m\u001B[38;5;124mThe real or complex N-by-N matrix of the linear system.\u001B[39m\u001B[38;5;130;01m\\n\u001B[39;00m\u001B[38;5;124m'\u001B[39m\n\u001B[0;32m    304\u001B[0m                \u001B[38;5;124m'\u001B[39m\u001B[38;5;124m``A`` must represent a hermitian, positive definite matrix.\u001B[39m\u001B[38;5;130;01m\\n\u001B[39;00m\u001B[38;5;124m'\u001B[39m\n\u001B[1;32m   (...)\u001B[0m\n\u001B[0;32m    327\u001B[0m \u001B[38;5;129m@non_reentrant\u001B[39m()\n\u001B[0;32m    328\u001B[0m \u001B[38;5;28;01mdef\u001B[39;00m \u001B[38;5;21mcg\u001B[39m(A, b, x0\u001B[38;5;241m=\u001B[39m\u001B[38;5;28;01mNone\u001B[39;00m, tol\u001B[38;5;241m=\u001B[39m\u001B[38;5;241m1e-5\u001B[39m, maxiter\u001B[38;5;241m=\u001B[39m\u001B[38;5;28;01mNone\u001B[39;00m, M\u001B[38;5;241m=\u001B[39m\u001B[38;5;28;01mNone\u001B[39;00m, callback\u001B[38;5;241m=\u001B[39m\u001B[38;5;28;01mNone\u001B[39;00m, atol\u001B[38;5;241m=\u001B[39m\u001B[38;5;28;01mNone\u001B[39;00m):\n\u001B[1;32m--> 329\u001B[0m     A, M, x, b, postprocess \u001B[38;5;241m=\u001B[39m \u001B[43mmake_system\u001B[49m\u001B[43m(\u001B[49m\u001B[43mA\u001B[49m\u001B[43m,\u001B[49m\u001B[43m \u001B[49m\u001B[43mM\u001B[49m\u001B[43m,\u001B[49m\u001B[43m \u001B[49m\u001B[43mx0\u001B[49m\u001B[43m,\u001B[49m\u001B[43m \u001B[49m\u001B[43mb\u001B[49m\u001B[43m)\u001B[49m\n\u001B[0;32m    331\u001B[0m     n \u001B[38;5;241m=\u001B[39m \u001B[38;5;28mlen\u001B[39m(b)\n\u001B[0;32m    332\u001B[0m     \u001B[38;5;28;01mif\u001B[39;00m maxiter \u001B[38;5;129;01mis\u001B[39;00m \u001B[38;5;28;01mNone\u001B[39;00m:\n",
      "File \u001B[1;32m~\\PycharmProjects\\DataScience\\venv\\Lib\\site-packages\\scipy\\sparse\\linalg\\_isolve\\utils.py:68\u001B[0m, in \u001B[0;36mmake_system\u001B[1;34m(A, M, x0, b)\u001B[0m\n\u001B[0;32m     65\u001B[0m A \u001B[38;5;241m=\u001B[39m aslinearoperator(A)\n\u001B[0;32m     67\u001B[0m \u001B[38;5;28;01mif\u001B[39;00m A\u001B[38;5;241m.\u001B[39mshape[\u001B[38;5;241m0\u001B[39m] \u001B[38;5;241m!=\u001B[39m A\u001B[38;5;241m.\u001B[39mshape[\u001B[38;5;241m1\u001B[39m]:\n\u001B[1;32m---> 68\u001B[0m     \u001B[38;5;28;01mraise\u001B[39;00m \u001B[38;5;167;01mValueError\u001B[39;00m(\u001B[38;5;124mf\u001B[39m\u001B[38;5;124m'\u001B[39m\u001B[38;5;124mexpected square matrix, but got shape=\u001B[39m\u001B[38;5;132;01m{\u001B[39;00m(A\u001B[38;5;241m.\u001B[39mshape,)\u001B[38;5;132;01m}\u001B[39;00m\u001B[38;5;124m'\u001B[39m)\n\u001B[0;32m     70\u001B[0m N \u001B[38;5;241m=\u001B[39m A\u001B[38;5;241m.\u001B[39mshape[\u001B[38;5;241m0\u001B[39m]\n\u001B[0;32m     72\u001B[0m b \u001B[38;5;241m=\u001B[39m asanyarray(b)\n",
      "\u001B[1;31mValueError\u001B[0m: expected square matrix, but got shape=((178, 14),)"
     ]
    }
   ],
   "source": [
    "# Descente de Gradient Conjugué Linéaire (matrice carré seulement)\n",
    "from scipy.sparse import csc_matrix\n",
    "from scipy.sparse.linalg import cg\n",
    "P = X\n",
    "A = csc_matrix(P)\n",
    "min, exit_code = cg(A, y, atol=1e-5)\n",
    "print(min)\n",
    "print(exit_code)"
   ],
   "metadata": {
    "collapsed": false
   }
  },
  {
   "cell_type": "code",
   "execution_count": 155,
   "outputs": [
    {
     "name": "stdout",
     "output_type": "stream",
     "text": [
      "-1.1102230246251565e-16\n",
      "9.296582172823754e-35\n",
      "[[0.6 0.6]\n",
      " [0.8 0.8]]\n"
     ]
    }
   ],
   "source": [
    "def conjugate_gradient_descent(A, b, c, x0, epsilon, n_iter_max):\n",
    "    x = x0\n",
    "    r = A @ x - b\n",
    "    p = -r\n",
    "    i = 0\n",
    "    while np.linalg.norm(r) > epsilon and i < n_iter_max:\n",
    "        A_p = A @ p\n",
    "        p_A_p = np.vdot(A_p, p)\n",
    "        alpha = - np.vdot(r, p) / p_A_p\n",
    "        x = x + alpha * p\n",
    "        r = r + alpha * A_p\n",
    "        beta = np.vdot(r, A_p) / p_A_p\n",
    "        p = -r + beta * p\n",
    "        print(np.vdot(p, A_p))\n",
    "        i += 1\n",
    "    return x\n",
    "print(conjugate_gradient_descent(np.array([[2, 1], [1, 3]]), np.array([[2], [3]]), 1, np.zeros(2), 0.05, 10))"
   ],
   "metadata": {
    "collapsed": false
   }
  },
  {
   "cell_type": "code",
   "execution_count": 179,
   "outputs": [],
   "source": [],
   "metadata": {
    "collapsed": false
   }
  },
  {
   "cell_type": "code",
   "execution_count": 210,
   "outputs": [
    {
     "name": "stdout",
     "output_type": "stream",
     "text": [
      "(14,) (178, 14) (178, 14)\n"
     ]
    }
   ],
   "source": [
    "# SSOR\n",
    "D = np.diag(X)\n",
    "E = np.tril(X)\n",
    "F = np.triu(X)\n",
    "print(D.shape, E.shape, F.shape)\n",
    "w = 0.1\n",
    "P = (w /2 - w) * (D * 1/w + E) @ D.transpose() @ (D * 1/w + F)\n",
    "#np.linalg.inv(P) @ X"
   ],
   "metadata": {
    "collapsed": false
   }
  },
  {
   "cell_type": "code",
   "execution_count": 208,
   "outputs": [
    {
     "data": {
      "text/plain": "(14,)"
     },
     "execution_count": 208,
     "metadata": {},
     "output_type": "execute_result"
    }
   ],
   "source": [
    "P.shape"
   ],
   "metadata": {
    "collapsed": false
   }
  },
  {
   "cell_type": "code",
   "execution_count": null,
   "outputs": [],
   "source": [],
   "metadata": {
    "collapsed": false
   }
  }
 ],
 "metadata": {
  "kernelspec": {
   "display_name": "Python 3",
   "language": "python",
   "name": "python3"
  },
  "language_info": {
   "codemirror_mode": {
    "name": "ipython",
    "version": 2
   },
   "file_extension": ".py",
   "mimetype": "text/x-python",
   "name": "python",
   "nbconvert_exporter": "python",
   "pygments_lexer": "ipython2",
   "version": "2.7.6"
  }
 },
 "nbformat": 4,
 "nbformat_minor": 0
}
